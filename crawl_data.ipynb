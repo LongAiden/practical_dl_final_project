{
 "cells": [
  {
   "cell_type": "code",
   "execution_count": 5,
   "metadata": {},
   "outputs": [],
   "source": [
    "import requests\n",
    "import time\n",
    "import pandas as pd\n",
    "import numpy as np\n",
    "from bs4 import BeautifulSoup "
   ]
  },
  {
   "cell_type": "code",
   "execution_count": 7,
   "metadata": {},
   "outputs": [],
   "source": [
    "goodread_df = pd.read_csv(r'D:\\Online_Learning\\Practical_DL\\final_project\\books.csv', on_bad_lines='skip')"
   ]
  },
  {
   "cell_type": "code",
   "execution_count": null,
   "metadata": {},
   "outputs": [],
   "source": [
    "# url = f\"https://www.goodreads.com/book/isbn/\"\n",
    "\n",
    "# def get_reviews_from_isbn(url, isbn):\n",
    "#     url = url + f'{isbn}'\n",
    "#     headers = {\n",
    "#     'User-Agent': 'Mozilla/5.0 (Windows NT 10.0; Win64; x64) AppleWebKit/537.36 (KHTML, like Gecko) Chrome/58.0.3029.110 Safari/537.36'\n",
    "#     }\n",
    "#     response = requests.get(url, headers=headers, allow_redirects=True)\n",
    "#     soup = BeautifulSoup(response.text, 'html.parser')\n",
    "\n",
    "#     # Get review from soups\n",
    "#     reviews = soup.find_all('article', class_='ReviewCard')\n",
    "#     print(len(reviews))\n",
    "#     # Initialize a list to hold all extracted review data\n",
    "#     all_reviews = []\n",
    "\n",
    "#     for review in reviews:\n",
    "#         # Extract the reviewer's name\n",
    "#         reviewer_name = review.find('div', {'data-testid': 'name'}).get_text(strip=True)\n",
    "        \n",
    "#         # Extract the rating, assuming it's in the format \"Rating x out of 5\"\n",
    "#         try:\n",
    "#             rating_section = review.find('div', class_='ShelfStatus')\n",
    "#             rating = rating_section.find('span', {'role': 'img'}).get('aria-label', '').split()[1]\n",
    "#         except:\n",
    "#             rating = ''\n",
    "        \n",
    "#         # Extract the comment text\n",
    "#         comment_section = review.find('div', {'data-testid': 'contentContainer'})\n",
    "#         comment = comment_section.get_text(strip=True) if comment_section else \"No comment provided\"\n",
    "        \n",
    "#         # Collect all information into a dictionary and add to the list\n",
    "#         review_data = {\n",
    "#             'isbn': isbn,\n",
    "#             'reviewer': reviewer_name,\n",
    "#             'rating': rating,\n",
    "#             'comment': comment\n",
    "#         }\n",
    "#         all_reviews.append(review_data)\n",
    "    \n",
    "#     return pd.DataFrame(all_reviews)\n",
    "\n",
    "\n",
    "# isbn_df = goodread_df[['bookID','average_rating','isbn']]\n",
    "# reviews_df = []\n",
    "\n",
    "# for isbn in isbn_df['isbn'].unique():\n",
    "#     tmp = get_reviews_from_isbn(url, isbn)\n",
    "#     print(tmp.shape)\n",
    "#     reviews_df.append(tmp)\n",
    "#     time.sleep(0.1)"
   ]
  },
  {
   "cell_type": "code",
   "execution_count": 12,
   "metadata": {},
   "outputs": [],
   "source": [
    "import requests\n",
    "from bs4 import BeautifulSoup\n",
    "import pandas as pd\n",
    "import time\n",
    "from concurrent.futures import ThreadPoolExecutor, as_completed\n",
    "\n",
    "\n",
    "def fetch_data_for_isbn(isbn):\n",
    "    return get_reviews_from_isbn(url, isbn)\n",
    "\n",
    "\n",
    "def get_reviews_from_isbn(url, isbn):\n",
    "    full_url = url+f\"{isbn}\"\n",
    "    headers = {\n",
    "        'User-Agent': 'Mozilla/5.0 (Windows NT 10.0; Win64; x64) AppleWebKit/537.36 (KHTML, like Gecko) Chrome/58.0.3029.110 Safari/537.36'\n",
    "    }\n",
    "\n",
    "    # Retry mechanism\n",
    "    for attempt in range(3):  # Retry up to 3 times\n",
    "        try:\n",
    "            response = requests.get(full_url, headers=headers, allow_redirects=True, timeout=10)\n",
    "            if response.status_code == 200:\n",
    "                soup = BeautifulSoup(response.text, 'html.parser')\n",
    "                break\n",
    "        except requests.RequestException as e:\n",
    "            print(f\"Error fetching data for ISBN {isbn}: {e}\")\n",
    "            time.sleep(2 ** attempt)  # Exponential backoff\n",
    "        else:\n",
    "            print(f\"Failed to fetch data after {attempt + 1} attempts. Status Code: {response.status_code}\")\n",
    "            return pd.DataFrame()  # Return empty DataFrame if unsuccessful\n",
    "\n",
    "    # Parsing logic as before\n",
    "    reviews = soup.find_all('article', class_='ReviewCard')\n",
    "    all_reviews = []\n",
    "\n",
    "    for review in reviews:\n",
    "        review_data = parse_review(review, isbn)  # Modularize parsing into a function\n",
    "        all_reviews.append(review_data)\n",
    "\n",
    "    return pd.DataFrame(all_reviews)\n",
    "\n",
    "\n",
    "def parse_review(review, isbn):\n",
    "    try:\n",
    "        reviewer_name = review.find('div', {'data-testid': 'name'}).get_text(strip=True)\n",
    "        rating_section = review.find('div', class_='ShelfStatus')\n",
    "        rating = rating_section.find('span', {'role': 'img'}).get('aria-label', '').split()[1]\n",
    "        comment_section = review.find('div', {'data-testid': 'contentContainer'})\n",
    "        comment = comment_section.get_text(strip=True) if comment_section else \"No comment provided\"\n",
    "    except Exception as e:\n",
    "        print(f\"Error parsing review for ISBN {isbn}: {e}\")\n",
    "        return {'isbn': isbn, 'reviewer': '', 'rating': '', 'comment': ''}\n",
    "    \n",
    "    return {\n",
    "        'isbn': isbn,\n",
    "        'reviewer': reviewer_name,\n",
    "        'rating': rating,\n",
    "        'comment': comment\n",
    "    }\n",
    "\n",
    "\n",
    "def fetch_reviews_parallel(isbn_list):\n",
    "    reviews_df = []\n",
    "    with ThreadPoolExecutor(max_workers=5) as executor:  # Reduced number of workers to lessen the load\n",
    "        future_to_isbn = {executor.submit(fetch_data_for_isbn, isbn): isbn for isbn in isbn_list}\n",
    "        for future in as_completed(future_to_isbn):\n",
    "            isbn = future_to_isbn[future]\n",
    "            try:\n",
    "                data = future.result()\n",
    "                reviews_df.append(data)\n",
    "                print(f\"Data fetched for ISBN {isbn} with shape {data.shape}\")\n",
    "                time.sleep(1)  # Throttle requests\n",
    "            except Exception as exc:\n",
    "                print(f\"{isbn} generated an exception: {exc}\")\n",
    "    return reviews_df\n"
   ]
  },
  {
   "cell_type": "code",
   "execution_count": null,
   "metadata": {},
   "outputs": [],
   "source": [
    "url = f\"https://www.goodreads.com/book/isbn/\"\n",
    "isbn_list = goodread_df['isbn'].unique()\n",
    "\n",
    "reviews_dataframes = fetch_reviews_parallel(isbn_list)"
   ]
  },
  {
   "cell_type": "code",
   "execution_count": 35,
   "metadata": {},
   "outputs": [],
   "source": [
    "test = pd.concat(reviews_dataframes)\n",
    "test = test[test['reviewer']!=\"\"]\n",
    "test.to_csv('reviews_goodread.csv', index=False)"
   ]
  },
  {
   "cell_type": "code",
   "execution_count": 36,
   "metadata": {},
   "outputs": [
    {
     "data": {
      "text/plain": [
       "(273442, 4)"
      ]
     },
     "execution_count": 36,
     "metadata": {},
     "output_type": "execute_result"
    }
   ],
   "source": [
    "test = pd.read_csv(r'D:\\Online_Learning\\Practical_DL\\final_project\\reviews_goodread.csv')\n",
    "test.shape"
   ]
  },
  {
   "cell_type": "code",
   "execution_count": 37,
   "metadata": {},
   "outputs": [
    {
     "data": {
      "text/html": [
       "<div>\n",
       "<style scoped>\n",
       "    .dataframe tbody tr th:only-of-type {\n",
       "        vertical-align: middle;\n",
       "    }\n",
       "\n",
       "    .dataframe tbody tr th {\n",
       "        vertical-align: top;\n",
       "    }\n",
       "\n",
       "    .dataframe thead th {\n",
       "        text-align: right;\n",
       "    }\n",
       "</style>\n",
       "<table border=\"1\" class=\"dataframe\">\n",
       "  <thead>\n",
       "    <tr style=\"text-align: right;\">\n",
       "      <th></th>\n",
       "      <th>isbn</th>\n",
       "      <th>reviewer</th>\n",
       "      <th>rating</th>\n",
       "      <th>comment</th>\n",
       "    </tr>\n",
       "  </thead>\n",
       "  <tbody>\n",
       "    <tr>\n",
       "      <th>0</th>\n",
       "      <td>0439358078</td>\n",
       "      <td>Jayson</td>\n",
       "      <td>5</td>\n",
       "      <td>(A) 86%| ExtraordinaryNotes:An angsty apprehen...</td>\n",
       "    </tr>\n",
       "    <tr>\n",
       "      <th>1</th>\n",
       "      <td>0439358078</td>\n",
       "      <td>Navessa</td>\n",
       "      <td>5</td>\n",
       "      <td>Seriously, don't read this review if you haven...</td>\n",
       "    </tr>\n",
       "    <tr>\n",
       "      <th>2</th>\n",
       "      <td>0439358078</td>\n",
       "      <td>Diane ϟ [ Lestrange ]</td>\n",
       "      <td>5</td>\n",
       "      <td>Interview with JK Rowling...Stephen Fry:Can we...</td>\n",
       "    </tr>\n",
       "    <tr>\n",
       "      <th>3</th>\n",
       "      <td>0439358078</td>\n",
       "      <td>Jayson</td>\n",
       "      <td>5</td>\n",
       "      <td>(A) 86%| ExtraordinaryNotes:It's a transitiona...</td>\n",
       "    </tr>\n",
       "    <tr>\n",
       "      <th>4</th>\n",
       "      <td>0439358078</td>\n",
       "      <td>Hannah Azerang</td>\n",
       "      <td>5</td>\n",
       "      <td>I had to re read it. I was in such a nostalgic...</td>\n",
       "    </tr>\n",
       "  </tbody>\n",
       "</table>\n",
       "</div>"
      ],
      "text/plain": [
       "         isbn               reviewer  rating  \\\n",
       "0  0439358078                 Jayson       5   \n",
       "1  0439358078                Navessa       5   \n",
       "2  0439358078  Diane ϟ [ Lestrange ]       5   \n",
       "3  0439358078                 Jayson       5   \n",
       "4  0439358078         Hannah Azerang       5   \n",
       "\n",
       "                                             comment  \n",
       "0  (A) 86%| ExtraordinaryNotes:An angsty apprehen...  \n",
       "1  Seriously, don't read this review if you haven...  \n",
       "2  Interview with JK Rowling...Stephen Fry:Can we...  \n",
       "3  (A) 86%| ExtraordinaryNotes:It's a transitiona...  \n",
       "4  I had to re read it. I was in such a nostalgic...  "
      ]
     },
     "execution_count": 37,
     "metadata": {},
     "output_type": "execute_result"
    }
   ],
   "source": [
    "test.head()"
   ]
  },
  {
   "cell_type": "code",
   "execution_count": null,
   "metadata": {},
   "outputs": [],
   "source": [
    "!p"
   ]
  }
 ],
 "metadata": {
  "kernelspec": {
   "display_name": "pytorch",
   "language": "python",
   "name": "python3"
  },
  "language_info": {
   "codemirror_mode": {
    "name": "ipython",
    "version": 3
   },
   "file_extension": ".py",
   "mimetype": "text/x-python",
   "name": "python",
   "nbconvert_exporter": "python",
   "pygments_lexer": "ipython3",
   "version": "3.8.18"
  }
 },
 "nbformat": 4,
 "nbformat_minor": 2
}
